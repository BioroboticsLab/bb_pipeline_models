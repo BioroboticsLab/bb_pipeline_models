{
 "cells": [
  {
   "cell_type": "code",
   "execution_count": 1,
   "id": "7dd6624b-5d22-45b9-a9d0-a029dbc89ea5",
   "metadata": {},
   "outputs": [
    {
     "data": {
      "text/plain": [
       "'2.17.0'"
      ]
     },
     "execution_count": 1,
     "metadata": {},
     "output_type": "execute_result"
    }
   ],
   "source": [
    "import tensorflow as tf\n",
    "tf.__version__"
   ]
  },
  {
   "cell_type": "code",
   "execution_count": 2,
   "id": "0e6ba363-607a-4b1d-ac68-fad3fb7aa121",
   "metadata": {},
   "outputs": [
    {
     "data": {
      "text/plain": [
       "'3.4.1'"
      ]
     },
     "execution_count": 2,
     "metadata": {},
     "output_type": "execute_result"
    }
   ],
   "source": [
    "import keras\n",
    "keras.__version__"
   ]
  },
  {
   "cell_type": "code",
   "execution_count": 3,
   "id": "cdb7803c-3cb7-4098-ba78-735b26a2f750",
   "metadata": {},
   "outputs": [],
   "source": [
    "import pipelinemodels"
   ]
  },
  {
   "cell_type": "markdown",
   "id": "63b28103-3163-43b2-ad35-82a6aa38cfae",
   "metadata": {},
   "source": [
    "# Define models, load weights, and save with keras3"
   ]
  },
  {
   "cell_type": "code",
   "execution_count": 4,
   "id": "3d331398-216a-448e-92eb-f513d41080d4",
   "metadata": {},
   "outputs": [
    {
     "name": "stderr",
     "output_type": "stream",
     "text": [
      "WARNING:absl:You are saving your model as an HDF5 file via `model.save()` or `keras.saving.save_model(model)`. This file format is considered legacy. We recommend using instead the native Keras format, e.g. `model.save('my_model.keras')` or `keras.saving.save_model(model, 'my_model.keras')`. \n"
     ]
    }
   ],
   "source": [
    "## localizer models\n",
    "# note that the versions saved from keras2 cannot be loaded with keras3\n",
    "\n",
    "localizermodel_fn = pipelinemodels.get_conv_model(initial_channels=16)\n",
    "localizermodel_fn.load_weights('localizer_2019_weights.h5')\n",
    "localizermodel_fn.save('localizer_2019_keras3.h5')\n",
    "localizermodel_fn.save('localizer_2019_keras3.keras')"
   ]
  },
  {
   "cell_type": "code",
   "execution_count": 5,
   "id": "a4eb4a2f-0e96-43ff-9da3-b8db04e67248",
   "metadata": {},
   "outputs": [
    {
     "name": "stderr",
     "output_type": "stream",
     "text": [
      "WARNING:absl:You are saving your model as an HDF5 file via `model.save()` or `keras.saving.save_model(model)`. This file format is considered legacy. We recommend using instead the native Keras format, e.g. `model.save('my_model.keras')` or `keras.saving.save_model(model, 'my_model.keras')`. \n"
     ]
    }
   ],
   "source": [
    "decodermodel_fn = pipelinemodels.get_custom_resnet()\n",
    "decodermodel_fn.load_weights('decoder_2019_weights.h5')\n",
    "decodermodel_fn.save('decoder_2019_keras3.h5')\n",
    "decodermodel_fn.save('decoder_2019_keras3.keras')"
   ]
  },
  {
   "cell_type": "markdown",
   "id": "41a490d8-2e80-4d20-bf29-2d2b2f5f851a",
   "metadata": {},
   "source": [
    "# Check to ensure that models are the same in Keras 2 and Keras 3"
   ]
  },
  {
   "cell_type": "code",
   "execution_count": 6,
   "id": "57f967f4",
   "metadata": {},
   "outputs": [],
   "source": [
    "import pickle"
   ]
  },
  {
   "cell_type": "code",
   "execution_count": 7,
   "id": "8986db38-d053-41f7-b0b4-87843d4c0de2",
   "metadata": {},
   "outputs": [
    {
     "name": "stdout",
     "output_type": "stream",
     "text": [
      "\u001b[1m1/1\u001b[0m \u001b[32m━━━━━━━━━━━━━━━━━━━━\u001b[0m\u001b[37m\u001b[0m \u001b[1m0s\u001b[0m 314ms/step\n",
      "Model data saved to 'localizer_keras3_model_data.pkl'\n",
      "Model architectures are identical in layer types and output shapes.\n",
      "Model weights are identical.\n",
      "Model predictions are identical.\n",
      "All comparisons passed.\n"
     ]
    },
    {
     "data": {
      "text/plain": [
       "True"
      ]
     },
     "execution_count": 7,
     "metadata": {},
     "output_type": "execute_result"
    }
   ],
   "source": [
    "## localizer model\n",
    "localizer_keras2_data = pickle.load(open('localizer_keras2_model_data.pkl','rb'))\n",
    "pipelinemodels.SaveModelData(localizermodel_fn, localizer_keras2_data['test_data'], 'localizer_keras3')\n",
    "pipelinemodels.CompareModelData('localizer_keras2_model_data.pkl', 'localizer_keras3_model_data.pkl', tol=1e-5)\n"
   ]
  },
  {
   "cell_type": "code",
   "execution_count": 8,
   "id": "81662779",
   "metadata": {},
   "outputs": [
    {
     "name": "stdout",
     "output_type": "stream",
     "text": [
      "\u001b[1m1/1\u001b[0m \u001b[32m━━━━━━━━━━━━━━━━━━━━\u001b[0m\u001b[37m\u001b[0m \u001b[1m0s\u001b[0m 465ms/step\n",
      "Model data saved to 'decoder_keras3_model_data.pkl'\n",
      "Model architectures are identical in layer types and output shapes.\n",
      "Model weights are identical.\n",
      "Model predictions are identical.\n",
      "All comparisons passed.\n"
     ]
    },
    {
     "data": {
      "text/plain": [
       "True"
      ]
     },
     "execution_count": 8,
     "metadata": {},
     "output_type": "execute_result"
    }
   ],
   "source": [
    "## decoder model\n",
    "decoder_keras2_data = pickle.load(open('decoder_keras2_model_data.pkl','rb'))\n",
    "pipelinemodels.SaveModelData(decodermodel_fn, decoder_keras2_data['test_data'], 'decoder_keras3')\n",
    "pipelinemodels.CompareModelData('decoder_keras2_model_data.pkl', 'decoder_keras3_model_data.pkl', tol=1e-5)"
   ]
  }
 ],
 "metadata": {
  "kernelspec": {
   "display_name": "beesbook",
   "language": "python",
   "name": "python3"
  },
  "language_info": {
   "codemirror_mode": {
    "name": "ipython",
    "version": 3
   },
   "file_extension": ".py",
   "mimetype": "text/x-python",
   "name": "python",
   "nbconvert_exporter": "python",
   "pygments_lexer": "ipython3",
   "version": "3.11.9"
  }
 },
 "nbformat": 4,
 "nbformat_minor": 5
}
